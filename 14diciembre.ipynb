{
 "cells": [
  {
   "cell_type": "code",
   "execution_count": 6,
   "metadata": {},
   "outputs": [
    {
     "data": {
      "application/vnd.jupyter.widget-view+json": {
       "model_id": "a87403c3fbf34179a3509939577b63e0",
       "version_major": 2,
       "version_minor": 0
      },
      "text/plain": [
       "interactive(children=(FloatSlider(value=8.9, description='p2_x', max=12.3, min=5.5), FloatSlider(value=0.0, de…"
      ]
     },
     "metadata": {},
     "output_type": "display_data"
    }
   ],
   "source": [
    "import numpy as np\n",
    "from ipywidgets import interact\n",
    "import matplotlib.pyplot as plt\n",
    "\n",
    "# Define the points\n",
    "p1 = (5.4, 3.2)\n",
    "p2 = (9.5, 0.7)\n",
    "p3 = (12.3, -3.6)\n",
    "\n",
    "# Combine the points into arrays for X and Y\n",
    "points = np.array([p1, p2, p3])\n",
    "X = points[:, 0]\n",
    "Y = points[:, 1]\n",
    "\n",
    "# Calculate the regression line coefficients\n",
    "A = np.vstack([X, np.ones(len(X))]).T  # Design matrix\n",
    "m, b = np.linalg.lstsq(A, Y, rcond=None)[0]  # Solve for m and b\n",
    "\n",
    "# Function to update the plot\n",
    "def update_plot(p2_x, p2_y):\n",
    "    # Update the coordinates of the second point\n",
    "    points[1] = [p2_x, p2_y]\n",
    "\n",
    "    # Recalculate regression line coefficients\n",
    "    X = points[:, 0]\n",
    "    Y = points[:, 1]\n",
    "    A = np.vstack([X, np.ones(len(X))]).T\n",
    "    m, b = np.linalg.lstsq(A, Y, rcond=None)[0]\n",
    "\n",
    "    # Prepare the plot\n",
    "    plt.figure(figsize=(10, 6))\n",
    "    plt.scatter(X, Y, color=\"red\", label=\"Points\")\n",
    "\n",
    "    # Plot the regression line\n",
    "    x_line = np.linspace(min(X), max(X), 100)\n",
    "    y_line = m * x_line + b\n",
    "    plt.plot(x_line, y_line, color=\"blue\", label=f\"y = {m:.2f}x + {b:.2f}\")\n",
    "\n",
    "    plt.xlabel(\"X\")\n",
    "    plt.ylabel(\"Y\")\n",
    "    plt.title(\"Regression Lineal y sus puntos\")\n",
    "    plt.legend()\n",
    "    plt.grid(True)\n",
    "    plt.show()\n",
    "\n",
    "# Use interact to dynamically adjust the second point\n",
    "_ = interact(update_plot, p2_x=(5.5, 12.3, 0.1), p2_y=(-10.0, 10.0, 0.1))\n"
   ]
  }
 ],
 "metadata": {
  "kernelspec": {
   "display_name": "base",
   "language": "python",
   "name": "python3"
  },
  "language_info": {
   "codemirror_mode": {
    "name": "ipython",
    "version": 3
   },
   "file_extension": ".py",
   "mimetype": "text/x-python",
   "name": "python",
   "nbconvert_exporter": "python",
   "pygments_lexer": "ipython3",
   "version": "3.12.4"
  }
 },
 "nbformat": 4,
 "nbformat_minor": 2
}
